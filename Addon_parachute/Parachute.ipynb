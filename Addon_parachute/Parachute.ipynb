{
 "cells": [
  {
   "cell_type": "code",
   "execution_count": 52,
   "metadata": {},
   "outputs": [],
   "source": [
    "import numpy as np#imports\n",
    "import math as m"
   ]
  },
  {
   "cell_type": "code",
   "execution_count": 53,
   "metadata": {},
   "outputs": [
    {
     "name": "stdout",
     "output_type": "stream",
     "text": [
      "[ 1  1 -1]\n"
     ]
    },
    {
     "data": {
      "text/plain": [
       "array([[ 1.,  1., -1.],\n",
       "       [-1.,  0., -1.],\n",
       "       [-1.,  2.,  1.]])"
      ]
     },
     "execution_count": 53,
     "metadata": {},
     "output_type": "execute_result"
    }
   ],
   "source": [
    "x1=1 #colculation of ortogeniel matrix for moments\n",
    "y1=1\n",
    "z1=-1\n",
    "invek = np.array([x1,y1,z1])\n",
    "ans = np.zeros([3,3])\n",
    "if z1==0 and x1==0:\n",
    "    ans = np.array([[1,0,0],[0,1,0],[0,0,1]])\n",
    "elif z1>0:\n",
    "    ans[0]=invek\n",
    "    ans[1][0]=1\n",
    "    ans[1][2]=-x1/z1*ans[1][0]\n",
    "    if x1==0:\n",
    "        ans[1]=[1,0,0]\n",
    "    ans[2][2]=-1\n",
    "    ans[2][0]=-ans[1][2]*ans[2][2]/ans[1][0]\n",
    "    ans[2][1]=-(ans[2][0]*x1+ans[2][2]*z1)/y1\n",
    "elif z1<0:\n",
    "    ans[0]=invek\n",
    "    ans[1][0]=-1\n",
    "    ans[1][2]=-x1/z1*ans[1][0]\n",
    "    if x1==0:\n",
    "        ans[1]=[-1,0,0]\n",
    "    ans[2][2]=1\n",
    "    ans[2][0]=-ans[1][2]*ans[2][2]/ans[1][0]\n",
    "    ans[2][1]=-(ans[2][0]*x1+ans[2][2]*z1)/y1\n",
    "elif z1==0:\n",
    "    ans[0]=invek\n",
    "    if x1>0:\n",
    "        ans[1]=[0,0,-1]\n",
    "        ans[2][0]=-1\n",
    "    else:\n",
    "        ans[1]=[0,0,1]\n",
    "        ans[2][0]=1\n",
    "    ans[2][1]=-ans[2][0]*x1/y1\n",
    "    \n",
    "print(invek)\n",
    "ans   "
   ]
  },
  {
   "cell_type": "code",
   "execution_count": 54,
   "metadata": {},
   "outputs": [
    {
     "data": {
      "text/plain": [
       "array([[ 0.57735027,  0.57735027, -0.57735027],\n",
       "       [-0.70710678,  0.        , -0.70710678],\n",
       "       [-0.40824829,  0.81649658,  0.40824829]])"
      ]
     },
     "execution_count": 54,
     "metadata": {},
     "output_type": "execute_result"
    }
   ],
   "source": [
    "import numpy.linalg as la #ortonormalization\n",
    "ansNorm=np.array([ans[0]/la.norm(ans[0]),ans[1]/la.norm(ans[1]),ans[2]/la.norm(ans[2])])\n",
    "ansNorm"
   ]
  },
  {
   "cell_type": "code",
   "execution_count": 57,
   "metadata": {},
   "outputs": [],
   "source": [
    "fi1=90/math.pi #delta colc\n",
    "fi2=0\n",
    "l1=2\n",
    "l2=1\n",
    "\n",
    "xp=l1*m.cos(fi1)*m.sin(fi2)\n",
    "yp=l1*m.sin(fi1)\n",
    "zp=l1*m.cos(fi1)*m.cos(fi2)\n",
    "\n",
    "xbox=-l2*m.cos(fi1)*m.sin(fi2)\n",
    "ybox=-l2*m.sin(fi1)\n",
    "zbox=-l2*m.cos(fi1)*m.cos(fi2)\n",
    "\n",
    "w1=0.2\n",
    "w2=0.1\n",
    "\n",
    "vxp=-w1*l1*m.sin(fi1)*m.sin(fi2)+w2*l1*m.cos(fi1)*m.cos(fi2)\n",
    "vyp=w1*l1*m.cos(fi1)\n",
    "vzp=-w1*l1*m.sin(fi1)*m.cos(fi2)-w2*l1*m.cos(fi1)*m.sin(fi2)\n",
    "\n",
    "vxbox=-(-w1*l2*m.sin(fi1)*m.sin(fi2)+w2*l2*m.cos(fi1)*m.cos(fi2))\n",
    "vybox=-(w1*l2*m.cos(fi1))\n",
    "vzbox=-(-w1*l2*m.sin(fi1)*m.cos(fi2)-w2*l2*m.cos(fi1)*m.sin(fi2))"
   ]
  },
  {
   "cell_type": "code",
   "execution_count": null,
   "metadata": {},
   "outputs": [],
   "source": [
    "cm = np.zeros(3) #abs colc\n",
    "vcm = np.zeros(3)\n",
    "\n",
    "corPar=np.zeros(3)\n",
    "velPar=np.zeros(3)\n",
    "corBox=np.zeros(3)\n",
    "velBox=np.zeros(3)\n",
    "\n",
    "corPar[0]=cm[0]+xp\n",
    "corPar[1]=cm[1]+yp\n",
    "corPar[2]=cm[2]+zp\n",
    "\n",
    "corBox[0]=cm[0]+xbox\n",
    "corBox[1]=cm[1]+ybox\n",
    "corBox[2]=cm[2]+zbox\n",
    "\n",
    "velPar[0]=vcm[0]+vxp\n",
    "velPar[1]=vcm[1]+vyp\n",
    "velPar[2]=vcm[2]+vzp\n",
    "\n",
    "velBox[0]=vcm[0]+vxbox\n",
    "velBox[1]=vcm[1]+vybox\n",
    "velBox[2]=vcm[2]+vzbox"
   ]
  },
  {
   "cell_type": "code",
   "execution_count": null,
   "metadata": {},
   "outputs": [],
   "source": []
  },
  {
   "cell_type": "code",
   "execution_count": null,
   "metadata": {},
   "outputs": [],
   "source": []
  }
 ],
 "metadata": {
  "kernelspec": {
   "display_name": "Python 3",
   "language": "python",
   "name": "python3"
  },
  "language_info": {
   "codemirror_mode": {
    "name": "ipython",
    "version": 3
   },
   "file_extension": ".py",
   "mimetype": "text/x-python",
   "name": "python",
   "nbconvert_exporter": "python",
   "pygments_lexer": "ipython3",
   "version": "3.6.8"
  }
 },
 "nbformat": 4,
 "nbformat_minor": 2
}
